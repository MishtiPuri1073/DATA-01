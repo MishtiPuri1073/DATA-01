{
  "nbformat": 4,
  "nbformat_minor": 0,
  "metadata": {
    "colab": {
      "provenance": [],
      "authorship_tag": "ABX9TyPEBCMXTwVa4mYZzKAGDI1u",
      "include_colab_link": true
    },
    "kernelspec": {
      "name": "python3",
      "display_name": "Python 3"
    },
    "language_info": {
      "name": "python"
    }
  },
  "cells": [
    {
      "cell_type": "markdown",
      "metadata": {
        "id": "view-in-github",
        "colab_type": "text"
      },
      "source": [
        "<a href=\"https://colab.research.google.com/github/MishtiPuri1073/DATA-01/blob/main/Untitled1.ipynb\" target=\"_parent\"><img src=\"https://colab.research.google.com/assets/colab-badge.svg\" alt=\"Open In Colab\"/></a>"
      ]
    },
    {
      "cell_type": "code",
      "execution_count": 6,
      "metadata": {
        "id": "PEuGGU36RpkI",
        "colab": {
          "base_uri": "https://localhost:8080/"
        },
        "outputId": "e6cd98dc-a96d-4db3-f591-b12a36d00842"
      },
      "outputs": [
        {
          "output_type": "stream",
          "name": "stdout",
          "text": [
            "[1, 2, 3, 4]\n"
          ]
        }
      ],
      "source": [
        "#Assign a list to an variable named my list\n",
        "my_list = [1,2,3,4]\n",
        "print (my_list)"
      ]
    },
    {
      "cell_type": "code",
      "source": [
        "type(my_list)\n"
      ],
      "metadata": {
        "colab": {
          "base_uri": "https://localhost:8080/"
        },
        "id": "blQSEclcMTNI",
        "outputId": "174565ff-a793-4869-8f52-af719f480806"
      },
      "execution_count": 7,
      "outputs": [
        {
          "output_type": "execute_result",
          "data": {
            "text/plain": [
              "list"
            ]
          },
          "metadata": {},
          "execution_count": 7
        }
      ]
    },
    {
      "cell_type": "code",
      "source": [
        "my_list = ['A string', 23, 100.232, 'o', True]\n",
        "\n",
        "my_list\n"
      ],
      "metadata": {
        "colab": {
          "base_uri": "https://localhost:8080/"
        },
        "id": "KxMyiu3sMTPw",
        "outputId": "485075d1-7e00-402d-ec58-7eef9e9d697e"
      },
      "execution_count": 26,
      "outputs": [
        {
          "output_type": "execute_result",
          "data": {
            "text/plain": [
              "['A string', 23, 100.232, 'o', True]"
            ]
          },
          "metadata": {},
          "execution_count": 26
        }
      ]
    },
    {
      "cell_type": "code",
      "source": [
        "len(my_list)"
      ],
      "metadata": {
        "colab": {
          "base_uri": "https://localhost:8080/"
        },
        "id": "qjLYYSzHMTSE",
        "outputId": "f2885cce-c3ae-442b-b6d5-c824e8968626"
      },
      "execution_count": 13,
      "outputs": [
        {
          "output_type": "execute_result",
          "data": {
            "text/plain": [
              "4"
            ]
          },
          "metadata": {},
          "execution_count": 13
        }
      ]
    },
    {
      "cell_type": "code",
      "source": [
        "#Consider a list of strings\n",
        "\n",
        "loss_functions = [ 'Mean Absolute Error', 'Mean Squared Error', 'Huber Loss', 'Log Loss', 'Hinge Loss']\n",
        "print (loss_functions)"
      ],
      "metadata": {
        "colab": {
          "base_uri": "https://localhost:8080/"
        },
        "id": "LDd6s5zrMTVB",
        "outputId": "dc8783f5-903a-4eeb-c336-41e648e4f3ae"
      },
      "execution_count": 23,
      "outputs": [
        {
          "output_type": "stream",
          "name": "stdout",
          "text": [
            "['Mean Absolute Error', 'Mean Squared Error', 'Huber Loss', 'Log Loss', 'Hinge Loss']\n"
          ]
        }
      ]
    },
    {
      "cell_type": "code",
      "source": [
        "#Grab the element at index 0, which is the FIRST element.\n",
        "print(loss_functions[0])\n"
      ],
      "metadata": {
        "colab": {
          "base_uri": "https://localhost:8080/"
        },
        "id": "EE7I_b8gMTXm",
        "outputId": "a7ed89e8-8987-40d3-8a25-dd7ac318d745"
      },
      "execution_count": 24,
      "outputs": [
        {
          "output_type": "stream",
          "name": "stdout",
          "text": [
            "Mean Absolute Error\n"
          ]
        }
      ]
    },
    {
      "cell_type": "code",
      "source": [
        "len(loss_functions)"
      ],
      "metadata": {
        "colab": {
          "base_uri": "https://localhost:8080/"
        },
        "id": "D6YngsjUMTaJ",
        "outputId": "14ceea5c-b48f-4336-fe91-d5ace7f115d2"
      },
      "execution_count": 25,
      "outputs": [
        {
          "output_type": "execute_result",
          "data": {
            "text/plain": [
              "5"
            ]
          },
          "metadata": {},
          "execution_count": 25
        }
      ]
    },
    {
      "cell_type": "code",
      "source": [
        "#Grab the element at index 3, which is the FOURTH element\n",
        "\n",
        "print(loss_functions[3])"
      ],
      "metadata": {
        "colab": {
          "base_uri": "https://localhost:8080/"
        },
        "id": "nt9l5uUjMTdF",
        "outputId": "d3b47e11-db69-46fa-d097-8ee2e338ecb8"
      },
      "execution_count": 27,
      "outputs": [
        {
          "output_type": "stream",
          "name": "stdout",
          "text": [
            "Log Loss\n"
          ]
        }
      ]
    },
    {
      "cell_type": "code",
      "source": [
        "#Grab the element at the index 1, which is the LAST element\n",
        "\n",
        "print(loss_functions[-1])\n"
      ],
      "metadata": {
        "colab": {
          "base_uri": "https://localhost:8080/"
        },
        "id": "bHoH0RwQMTf1",
        "outputId": "c7fdcd22-b04b-4f86-cecb-0c459ba5726b"
      },
      "execution_count": 28,
      "outputs": [
        {
          "output_type": "stream",
          "name": "stdout",
          "text": [
            "Hinge Loss\n"
          ]
        }
      ]
    },
    {
      "cell_type": "code",
      "source": [
        "#Grab the element at the index -3, which is the THIRD LAST element\n",
        "\n",
        "print(loss_functions[-3])\n",
        "\n"
      ],
      "metadata": {
        "colab": {
          "base_uri": "https://localhost:8080/"
        },
        "id": "w4VWsOPSMTil",
        "outputId": "0c8ff75e-a2e3-4cb7-f1fb-3928aff011b6"
      },
      "execution_count": 29,
      "outputs": [
        {
          "output_type": "stream",
          "name": "stdout",
          "text": [
            "Huber Loss\n"
          ]
        }
      ]
    },
    {
      "cell_type": "code",
      "source": [
        "#Print our list\n",
        "\n",
        "print(loss_functions)\n"
      ],
      "metadata": {
        "colab": {
          "base_uri": "https://localhost:8080/"
        },
        "id": "boRMs0wHMTld",
        "outputId": "8a0e14c8-d1a9-48b6-8eff-e5d4d103c175"
      },
      "execution_count": 30,
      "outputs": [
        {
          "output_type": "stream",
          "name": "stdout",
          "text": [
            "['Mean Absolute Error', 'Mean Squared Error', 'Huber Loss', 'Log Loss', 'Hinge Loss']\n"
          ]
        }
      ]
    },
    {
      "cell_type": "code",
      "source": [
        "#Grab the elements starting from index 1 and everything past it\n",
        "\n",
        "loss_functions [1:4]\n"
      ],
      "metadata": {
        "colab": {
          "base_uri": "https://localhost:8080/"
        },
        "id": "ewqDkHJJMTo7",
        "outputId": "a7d67202-35f0-42ae-f016-25bce776f460"
      },
      "execution_count": 31,
      "outputs": [
        {
          "output_type": "execute_result",
          "data": {
            "text/plain": [
              "['Mean Squared Error', 'Huber Loss', 'Log Loss']"
            ]
          },
          "metadata": {},
          "execution_count": 31
        }
      ]
    },
    {
      "cell_type": "code",
      "source": [
        "#Grab everything starting from index 2\n",
        "\n",
        "loss_functions [2:]"
      ],
      "metadata": {
        "colab": {
          "base_uri": "https://localhost:8080/"
        },
        "id": "NA9s0Lt8SN7N",
        "outputId": "7a368d87-e274-4187-f2eb-e48130fdc4e3"
      },
      "execution_count": 32,
      "outputs": [
        {
          "output_type": "execute_result",
          "data": {
            "text/plain": [
              "['Huber Loss', 'Log Loss', 'Hinge Loss']"
            ]
          },
          "metadata": {},
          "execution_count": 32
        }
      ]
    },
    {
      "cell_type": "code",
      "source": [
        "#Grab everything before the index 4\n",
        "\n",
        "loss_functions[:4]\n"
      ],
      "metadata": {
        "colab": {
          "base_uri": "https://localhost:8080/"
        },
        "id": "_C_HmsH8SN-E",
        "outputId": "5494da9a-a02f-45a4-f764-b14295a5b434"
      },
      "execution_count": 33,
      "outputs": [
        {
          "output_type": "execute_result",
          "data": {
            "text/plain": [
              "['Mean Absolute Error', 'Mean Squared Error', 'Huber Loss', 'Log Loss']"
            ]
          },
          "metadata": {},
          "execution_count": 33
        }
      ]
    },
    {
      "cell_type": "code",
      "source": [
        "#Grab everything\n",
        "\n",
        "print(loss_functions[:])\n"
      ],
      "metadata": {
        "colab": {
          "base_uri": "https://localhost:8080/"
        },
        "id": "zPNVKN9mSOAr",
        "outputId": "cf71f4ee-0051-4388-a0ce-9a9843c22bd2"
      },
      "execution_count": 34,
      "outputs": [
        {
          "output_type": "stream",
          "name": "stdout",
          "text": [
            "['Mean Absolute Error', 'Mean Squared Error', 'Huber Loss', 'Log Loss', 'Hinge Loss']\n"
          ]
        }
      ]
    },
    {
      "cell_type": "code",
      "source": [
        "#Grab the LAST FOUR elements of the list\n",
        "\n",
        "loss_functions[-4:]"
      ],
      "metadata": {
        "colab": {
          "base_uri": "https://localhost:8080/"
        },
        "id": "MS9W0Km1SODi",
        "outputId": "bfc6df6b-4600-4a99-cedd-1620b4e92122"
      },
      "execution_count": 35,
      "outputs": [
        {
          "output_type": "execute_result",
          "data": {
            "text/plain": [
              "['Mean Squared Error', 'Huber Loss', 'Log Loss', 'Hinge Loss']"
            ]
          },
          "metadata": {},
          "execution_count": 35
        }
      ]
    },
    {
      "cell_type": "code",
      "source": [
        "len(loss_functions)\n"
      ],
      "metadata": {
        "colab": {
          "base_uri": "https://localhost:8080/"
        },
        "id": "6UXI7v0ISOF9",
        "outputId": "f7b5fa57-12aa-4e96-aecf-95e4882430a5"
      },
      "execution_count": 36,
      "outputs": [
        {
          "output_type": "execute_result",
          "data": {
            "text/plain": [
              "5"
            ]
          },
          "metadata": {},
          "execution_count": 36
        }
      ]
    },
    {
      "cell_type": "code",
      "source": [
        "loss_functions"
      ],
      "metadata": {
        "colab": {
          "base_uri": "https://localhost:8080/"
        },
        "id": "T900hWpYSOI1",
        "outputId": "6d7cbdc0-ff40-4b80-b1fb-568fdbee5500"
      },
      "execution_count": 37,
      "outputs": [
        {
          "output_type": "execute_result",
          "data": {
            "text/plain": [
              "['Mean Absolute Error',\n",
              " 'Mean Squared Error',\n",
              " 'Huber Loss',\n",
              " 'Log Loss',\n",
              " 'Hinge Loss']"
            ]
          },
          "metadata": {},
          "execution_count": 37
        }
      ]
    },
    {
      "cell_type": "code",
      "source": [
        "print(loss_functions)\n",
        "\n"
      ],
      "metadata": {
        "colab": {
          "base_uri": "https://localhost:8080/"
        },
        "id": "sOtSTaxrSOL7",
        "outputId": "885ff493-7476-4052-e55b-8f2f0b259ed3"
      },
      "execution_count": 38,
      "outputs": [
        {
          "output_type": "stream",
          "name": "stdout",
          "text": [
            "['Mean Absolute Error', 'Mean Squared Error', 'Huber Loss', 'Log Loss', 'Hinge Loss']\n"
          ]
        }
      ]
    },
    {
      "cell_type": "code",
      "source": [
        "loss_functions + ['Kullback-Leibler']\n"
      ],
      "metadata": {
        "colab": {
          "base_uri": "https://localhost:8080/"
        },
        "id": "h12k_BOpSOOg",
        "outputId": "5c3ecd77-337b-4181-d7b8-a770c4100bb3"
      },
      "execution_count": 40,
      "outputs": [
        {
          "output_type": "execute_result",
          "data": {
            "text/plain": [
              "['Mean Absolute Error',\n",
              " 'Mean Squared Error',\n",
              " 'Huber Loss',\n",
              " 'Log Loss',\n",
              " 'Hinge Loss',\n",
              " 'Kullback-Leibler']"
            ]
          },
          "metadata": {},
          "execution_count": 40
        }
      ]
    },
    {
      "cell_type": "code",
      "source": [
        "#Reassign\n",
        "\n",
        "loss_functions = loss_functions + ['Kullback-Leibler']\n",
        "\n",
        "loss_functions\n"
      ],
      "metadata": {
        "colab": {
          "base_uri": "https://localhost:8080/"
        },
        "id": "mUzVnq3lSORP",
        "outputId": "1e187a98-aaa5-484b-d148-0282f6060dfb"
      },
      "execution_count": 41,
      "outputs": [
        {
          "output_type": "execute_result",
          "data": {
            "text/plain": [
              "['Mean Absolute Error',\n",
              " 'Mean Squared Error',\n",
              " 'Huber Loss',\n",
              " 'Log Loss',\n",
              " 'Hinge Loss',\n",
              " 'Kullback-Leibler']"
            ]
          },
          "metadata": {},
          "execution_count": 41
        }
      ]
    },
    {
      "cell_type": "code",
      "source": [
        "#Make the list double\n",
        "len(loss_functions*5)\n"
      ],
      "metadata": {
        "colab": {
          "base_uri": "https://localhost:8080/"
        },
        "id": "6PAawQg-SOT8",
        "outputId": "4adeabf2-9ec3-4c12-85e4-23cf57e938e0"
      },
      "execution_count": 42,
      "outputs": [
        {
          "output_type": "execute_result",
          "data": {
            "text/plain": [
              "30"
            ]
          },
          "metadata": {},
          "execution_count": 42
        }
      ]
    },
    {
      "cell_type": "code",
      "source": [
        "print(loss_functions)\n"
      ],
      "metadata": {
        "colab": {
          "base_uri": "https://localhost:8080/"
        },
        "id": "ekwUn7NVSOWp",
        "outputId": "80e99d2d-dc3d-4006-a931-1dabd9c2b423"
      },
      "execution_count": 47,
      "outputs": [
        {
          "output_type": "stream",
          "name": "stdout",
          "text": [
            "['Mean Absolute Error', 'Mean Squared Error', 'Huber Loss', 'Log Loss', 'Hinge Loss', 'Kullback-Leibler']\n"
          ]
        }
      ]
    },
    {
      "cell_type": "code",
      "source": [
        "len(loss_functions)"
      ],
      "metadata": {
        "colab": {
          "base_uri": "https://localhost:8080/"
        },
        "id": "F24LfygrSOZd",
        "outputId": "d74ff756-7517-4539-ab82-079859bce7db"
      },
      "execution_count": 46,
      "outputs": [
        {
          "output_type": "execute_result",
          "data": {
            "text/plain": [
              "6"
            ]
          },
          "metadata": {},
          "execution_count": 46
        }
      ]
    },
    {
      "cell_type": "code",
      "source": [
        "new_list = [6, 9, 1, 3, 5.5]\n",
        "\n",
        "min(new_list)\n"
      ],
      "metadata": {
        "colab": {
          "base_uri": "https://localhost:8080/"
        },
        "id": "DTtcOZ8uSOc5",
        "outputId": "650fcf39-40dc-4a76-c0b4-9ce72da4e6fd"
      },
      "execution_count": 45,
      "outputs": [
        {
          "output_type": "execute_result",
          "data": {
            "text/plain": [
              "1"
            ]
          },
          "metadata": {},
          "execution_count": 45
        }
      ]
    },
    {
      "cell_type": "code",
      "source": [
        "my_new_list = ['c', 'b', '2','y', 'm']\n",
        "\n",
        "min(my_new_list)\n"
      ],
      "metadata": {
        "colab": {
          "base_uri": "https://localhost:8080/",
          "height": 36
        },
        "id": "3u4ZgzAfVmf0",
        "outputId": "386a16c3-0ec4-4be6-d4a6-1a43a59baa5f"
      },
      "execution_count": 49,
      "outputs": [
        {
          "output_type": "execute_result",
          "data": {
            "text/plain": [
              "'2'"
            ],
            "application/vnd.google.colaboratory.intrinsic+json": {
              "type": "string"
            }
          },
          "metadata": {},
          "execution_count": 49
        }
      ]
    },
    {
      "cell_type": "code",
      "source": [
        "new_list = [6, 9, 1, 3, 5.5]\n",
        "\n",
        "sum(new_list)\n"
      ],
      "metadata": {
        "colab": {
          "base_uri": "https://localhost:8080/"
        },
        "id": "YHFt4KLAVmig",
        "outputId": "fa5c40a2-a9a4-40a0-b228-8cd5f039bb32"
      },
      "execution_count": 50,
      "outputs": [
        {
          "output_type": "execute_result",
          "data": {
            "text/plain": [
              "24.5"
            ]
          },
          "metadata": {},
          "execution_count": 50
        }
      ]
    },
    {
      "cell_type": "code",
      "source": [
        "new_list\n",
        "\n",
        "[6, 9, 1, 3, 5.5]\n"
      ],
      "metadata": {
        "colab": {
          "base_uri": "https://localhost:8080/"
        },
        "id": "3oyPqT9hVmlC",
        "outputId": "6842406e-5065-40ee-a668-ccd649fe46e0"
      },
      "execution_count": 51,
      "outputs": [
        {
          "output_type": "execute_result",
          "data": {
            "text/plain": [
              "[6, 9, 1, 3, 5.5]"
            ]
          },
          "metadata": {},
          "execution_count": 51
        }
      ]
    },
    {
      "cell_type": "code",
      "source": [
        "sorted(new_list)\n",
        "\n",
        "[1, 3, 5.5, 6, 9]\n",
        "\n"
      ],
      "metadata": {
        "colab": {
          "base_uri": "https://localhost:8080/"
        },
        "id": "OPCdtQwUVmnt",
        "outputId": "5d5babec-4f50-49f9-b521-28f77891c256"
      },
      "execution_count": 52,
      "outputs": [
        {
          "output_type": "execute_result",
          "data": {
            "text/plain": [
              "[1, 3, 5.5, 6, 9]"
            ]
          },
          "metadata": {},
          "execution_count": 52
        }
      ]
    },
    {
      "cell_type": "code",
      "source": [
        "print(new_list)\n",
        "\n",
        "[6, 9, 1, 3, 5.5]\n",
        "\n"
      ],
      "metadata": {
        "colab": {
          "base_uri": "https://localhost:8080/"
        },
        "id": "uXws424kVmqB",
        "outputId": "436d3d34-0f3c-4236-9c29-627b5f501b3d"
      },
      "execution_count": 53,
      "outputs": [
        {
          "output_type": "stream",
          "name": "stdout",
          "text": [
            "[6, 9, 1, 3, 5.5]\n"
          ]
        },
        {
          "output_type": "execute_result",
          "data": {
            "text/plain": [
              "[6, 9, 1, 3, 5.5]"
            ]
          },
          "metadata": {},
          "execution_count": 53
        }
      ]
    },
    {
      "cell_type": "code",
      "source": [
        "new_list = ['Argue', 'Burglar', 'Parent', 'Linear', 'shape']\n",
        "\n",
        "sorted(new_list)\n",
        "\n"
      ],
      "metadata": {
        "colab": {
          "base_uri": "https://localhost:8080/"
        },
        "id": "qOQteUZJVmsz",
        "outputId": "082dc600-f124-442c-c739-24e079b623d4"
      },
      "execution_count": 54,
      "outputs": [
        {
          "output_type": "execute_result",
          "data": {
            "text/plain": [
              "['Argue', 'Burglar', 'Linear', 'Parent', 'shape']"
            ]
          },
          "metadata": {},
          "execution_count": 54
        }
      ]
    },
    {
      "cell_type": "code",
      "source": [
        "print(new_list)\n"
      ],
      "metadata": {
        "colab": {
          "base_uri": "https://localhost:8080/"
        },
        "id": "BEcJpprAVmvw",
        "outputId": "b948aadf-4ed5-4bff-ecee-324dd30aa193"
      },
      "execution_count": 55,
      "outputs": [
        {
          "output_type": "stream",
          "name": "stdout",
          "text": [
            "['Argue', 'Burglar', 'Parent', 'Linear', 'shape']\n"
          ]
        }
      ]
    },
    {
      "cell_type": "code",
      "source": [
        "sorted(new_list, reverse=True)"
      ],
      "metadata": {
        "colab": {
          "base_uri": "https://localhost:8080/"
        },
        "id": "1DncfymZVmyg",
        "outputId": "02511282-64e6-414b-ea5c-a23b56f737ba"
      },
      "execution_count": 56,
      "outputs": [
        {
          "output_type": "execute_result",
          "data": {
            "text/plain": [
              "['shape', 'Parent', 'Linear', 'Burglar', 'Argue']"
            ]
          },
          "metadata": {},
          "execution_count": 56
        }
      ]
    },
    {
      "cell_type": "code",
      "source": [
        "sorted(new_list)\n"
      ],
      "metadata": {
        "colab": {
          "base_uri": "https://localhost:8080/"
        },
        "id": "GS4lba0-Vm17",
        "outputId": "763d18d2-6e29-419d-a78f-c2b2ee415552"
      },
      "execution_count": 57,
      "outputs": [
        {
          "output_type": "execute_result",
          "data": {
            "text/plain": [
              "['Argue', 'Burglar', 'Linear', 'Parent', 'shape']"
            ]
          },
          "metadata": {},
          "execution_count": 57
        }
      ]
    },
    {
      "cell_type": "code",
      "source": [
        "new_list\n"
      ],
      "metadata": {
        "colab": {
          "base_uri": "https://localhost:8080/"
        },
        "id": "qlTQC0IUXrKj",
        "outputId": "98e2e2df-7fc7-4fc3-c92f-c1c40cdb8ac9"
      },
      "execution_count": 58,
      "outputs": [
        {
          "output_type": "execute_result",
          "data": {
            "text/plain": [
              "['Argue', 'Burglar', 'Parent', 'Linear', 'shape']"
            ]
          },
          "metadata": {},
          "execution_count": 58
        }
      ]
    },
    {
      "cell_type": "code",
      "source": [
        "# Create a new list\n",
        "\n",
        "my_list = [1,2,3,1,1,1,3,10,5,8]"
      ],
      "metadata": {
        "id": "aKjnNs7MXvSd"
      },
      "execution_count": 59,
      "outputs": []
    },
    {
      "cell_type": "code",
      "source": [
        "# Print the list\n",
        "\n",
        "my_list"
      ],
      "metadata": {
        "colab": {
          "base_uri": "https://localhost:8080/"
        },
        "id": "oz7tmq2xXvVF",
        "outputId": "6f0424f3-c33e-4668-c3d0-31d86ad378e3"
      },
      "execution_count": 60,
      "outputs": [
        {
          "output_type": "execute_result",
          "data": {
            "text/plain": [
              "[1, 2, 3, 1, 1, 1, 3, 10, 5, 8]"
            ]
          },
          "metadata": {},
          "execution_count": 60
        }
      ]
    },
    {
      "cell_type": "code",
      "source": [
        "len(my_list)\n"
      ],
      "metadata": {
        "colab": {
          "base_uri": "https://localhost:8080/"
        },
        "id": "fVR-uo_HXvYA",
        "outputId": "9dba65aa-8722-46fa-b0cd-119bd137e2e8"
      },
      "execution_count": 61,
      "outputs": [
        {
          "output_type": "execute_result",
          "data": {
            "text/plain": [
              "10"
            ]
          },
          "metadata": {},
          "execution_count": 61
        }
      ]
    },
    {
      "cell_type": "code",
      "source": [
        "# Append to the end of the list\n",
        "\n",
        "my_list.append('Append me!')\n",
        "\n",
        "#Ah darn it! I was expecting some output. Lets see what happened to my_list\n",
        "\n",
        "print(my_list)\n"
      ],
      "metadata": {
        "colab": {
          "base_uri": "https://localhost:8080/"
        },
        "id": "jqzhM4HUXvar",
        "outputId": "9e665eaf-d220-4ba9-ac6d-991e701f591d"
      },
      "execution_count": 64,
      "outputs": [
        {
          "output_type": "stream",
          "name": "stdout",
          "text": [
            "[1, 2, 3, 1, 1, 1, 3, 10, 5, 8, 'Append me!']\n"
          ]
        }
      ]
    },
    {
      "cell_type": "code",
      "source": [],
      "metadata": {
        "id": "5j8S5AaQXvdi"
      },
      "execution_count": null,
      "outputs": []
    },
    {
      "cell_type": "code",
      "source": [],
      "metadata": {
        "id": "0N_7sp2AXvgY"
      },
      "execution_count": null,
      "outputs": []
    },
    {
      "cell_type": "code",
      "source": [],
      "metadata": {
        "id": "hOwXQBoWXvj2"
      },
      "execution_count": null,
      "outputs": []
    }
  ]
}