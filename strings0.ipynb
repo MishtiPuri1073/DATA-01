{
  "nbformat": 4,
  "nbformat_minor": 0,
  "metadata": {
    "colab": {
      "provenance": [],
      "toc_visible": true,
      "authorship_tag": "ABX9TyMv1P/BPZuf7z2Mx/SA88pd",
      "include_colab_link": true
    },
    "kernelspec": {
      "name": "python3",
      "display_name": "Python 3"
    },
    "language_info": {
      "name": "python"
    }
  },
  "cells": [
    {
      "cell_type": "markdown",
      "metadata": {
        "id": "view-in-github",
        "colab_type": "text"
      },
      "source": [
        "<a href=\"https://colab.research.google.com/github/MishtiPuri1073/DATA-01/blob/main/strings0.ipynb\" target=\"_parent\"><img src=\"https://colab.research.google.com/assets/colab-badge.svg\" alt=\"Open In Colab\"/></a>"
      ]
    },
    {
      "cell_type": "code",
      "execution_count": null,
      "metadata": {
        "colab": {
          "base_uri": "https://localhost:8080/",
          "height": 36
        },
        "id": "dD8NtZIoPaOG",
        "outputId": "a81cb85b-b2be-428b-f9be-e3f222cb9bc0"
      },
      "outputs": [
        {
          "output_type": "execute_result",
          "data": {
            "text/plain": [
              "'algebra'"
            ],
            "application/vnd.google.colaboratory.intrinsic+json": {
              "type": "string"
            }
          },
          "metadata": {},
          "execution_count": 1
        }
      ],
      "source": [
        "#Single word\n",
        "my_first_string= \"algebra\"\n",
        "my_first_string"
      ]
    },
    {
      "cell_type": "code",
      "source": [
        "#Entire phrase\n",
        "phrase = 'Statistics sits at the heart of machine learning'\n",
        "print (phrase)"
      ],
      "metadata": {
        "colab": {
          "base_uri": "https://localhost:8080/"
        },
        "id": "7kjDLP3jP6uJ",
        "outputId": "075966dd-6db1-4db6-d2e3-8987390799c8"
      },
      "execution_count": null,
      "outputs": [
        {
          "output_type": "stream",
          "name": "stdout",
          "text": [
            "Statistics sits at the heart of machine learning\n"
          ]
        }
      ]
    },
    {
      "cell_type": "code",
      "source": [
        "#Statement to get the type of the variable\n",
        "type (phrase)"
      ],
      "metadata": {
        "colab": {
          "base_uri": "https://localhost:8080/"
        },
        "id": "r31qbN8zP6xB",
        "outputId": "bf1faeda-c73b-46a6-e562-40492bb7d6d3"
      },
      "execution_count": null,
      "outputs": [
        {
          "output_type": "execute_result",
          "data": {
            "text/plain": [
              "str"
            ]
          },
          "metadata": {},
          "execution_count": 3
        }
      ]
    },
    {
      "cell_type": "code",
      "source": [
        "#We can also use double quote\n",
        "my_string = \"string built with double quotes\"\n",
        "print(my_string)  #Use the print command"
      ],
      "metadata": {
        "colab": {
          "base_uri": "https://localhost:8080/"
        },
        "id": "NeA40YqgP6zz",
        "outputId": "67aa35cc-5487-4480-ce89-439cb3ef5ccb"
      },
      "execution_count": null,
      "outputs": [
        {
          "output_type": "stream",
          "name": "stdout",
          "text": [
            "string built with double quotes\n"
          ]
        }
      ]
    },
    {
      "cell_type": "code",
      "source": [
        "#Be careful with quotes !\n",
        "sentence= \"I/m using single quotes, but this will create anb error\"\n",
        "print (sentence)"
      ],
      "metadata": {
        "colab": {
          "base_uri": "https://localhost:8080/"
        },
        "id": "9KgXJjdnP62g",
        "outputId": "8760e7c4-6090-4a74-ed29-a9e618ab0c31"
      },
      "execution_count": null,
      "outputs": [
        {
          "output_type": "stream",
          "name": "stdout",
          "text": [
            "I/m using single quotes, but this will create anb error\n"
          ]
        }
      ]
    },
    {
      "cell_type": "code",
      "source": [
        "#Hashtag = '#'\n",
        "print('#')"
      ],
      "metadata": {
        "colab": {
          "base_uri": "https://localhost:8080/"
        },
        "id": "97QV7kiWP641",
        "outputId": "fcddf26a-c2f0-4897-b685-f6656c447064"
      },
      "execution_count": 31,
      "outputs": [
        {
          "output_type": "stream",
          "name": "stdout",
          "text": [
            "#\n"
          ]
        }
      ]
    },
    {
      "cell_type": "code",
      "source": [
        "#type('hashtag')\n",
        "print('#')"
      ],
      "metadata": {
        "id": "uAdsj-B8P67i",
        "colab": {
          "base_uri": "https://localhost:8080/"
        },
        "outputId": "05fc2bd0-aec5-41a0-e640-ee1a5712bba5"
      },
      "execution_count": 34,
      "outputs": [
        {
          "output_type": "stream",
          "name": "stdout",
          "text": [
            "#\n"
          ]
        }
      ]
    },
    {
      "cell_type": "code",
      "source": [
        "#We can simply declare a string\n",
        "'Deep Learning'"
      ],
      "metadata": {
        "colab": {
          "base_uri": "https://localhost:8080/",
          "height": 36
        },
        "id": "Tz3S4o6fP695",
        "outputId": "45514abe-244b-4743-b061-49293ed1deb7"
      },
      "execution_count": null,
      "outputs": [
        {
          "output_type": "execute_result",
          "data": {
            "text/plain": [
              "'Deep Learning'"
            ],
            "application/vnd.google.colaboratory.intrinsic+json": {
              "type": "string"
            }
          },
          "metadata": {},
          "execution_count": 26
        }
      ]
    },
    {
      "cell_type": "code",
      "source": [
        "#Note that we can't output multiple string this way\n",
        "'Linear Algebra'\n",
        "'Calcus'"
      ],
      "metadata": {
        "colab": {
          "base_uri": "https://localhost:8080/",
          "height": 36
        },
        "id": "KpiwZEuBP7Ai",
        "outputId": "339db5b3-956b-41b3-a84c-e43a795f153d"
      },
      "execution_count": null,
      "outputs": [
        {
          "output_type": "execute_result",
          "data": {
            "text/plain": [
              "'Calcus'"
            ],
            "application/vnd.google.colaboratory.intrinsic+json": {
              "type": "string"
            }
          },
          "metadata": {},
          "execution_count": 27
        }
      ]
    },
    {
      "cell_type": "code",
      "source": [
        "#print('Linear Algebra')\n",
        "#print ('Calcus')\n",
        "print ( 'Use to print a new line')\n",
        "print('/nSee what I mean?')"
      ],
      "metadata": {
        "colab": {
          "base_uri": "https://localhost:8080/"
        },
        "id": "kmx1nd1gP7DF",
        "outputId": "70ac76c9-f863-453d-ce1e-e2494e9af9a4"
      },
      "execution_count": null,
      "outputs": [
        {
          "output_type": "stream",
          "name": "stdout",
          "text": [
            "Use to print a new line\n",
            "/nSee what I mean?\n"
          ]
        }
      ]
    },
    {
      "cell_type": "code",
      "source": [
        "algo = 're  on'\n",
        "len (algo)"
      ],
      "metadata": {
        "colab": {
          "base_uri": "https://localhost:8080/"
        },
        "id": "FBOGpsSpP7Fd",
        "outputId": "8dcf1581-892e-4625-e022-a1a89ac20023"
      },
      "execution_count": null,
      "outputs": [
        {
          "output_type": "execute_result",
          "data": {
            "text/plain": [
              "6"
            ]
          },
          "metadata": {},
          "execution_count": 30
        }
      ]
    },
    {
      "cell_type": "code",
      "source": [
        "#Combine all of the code into one block to ensure the 'string' variable is defined before it's used.\n",
        "#Assign string as a string\n",
        "string = 'Principal Component Analysis'\n",
        "#print the object\n",
        "print (string)"
      ],
      "metadata": {
        "colab": {
          "base_uri": "https://localhost:8080/"
        },
        "id": "Idv84-T4P7Iy",
        "outputId": "f2311d72-0b08-47eb-ae8d-29c4f3de85bb"
      },
      "execution_count": 45,
      "outputs": [
        {
          "output_type": "stream",
          "name": "stdout",
          "text": [
            "Principal Component Analysis\n"
          ]
        }
      ]
    },
    {
      "cell_type": "code",
      "source": [
        "#Show first element (in this case a letter)\n",
        "print (string [-2])"
      ],
      "metadata": {
        "colab": {
          "base_uri": "https://localhost:8080/"
        },
        "id": "-HJWGfxgX9jo",
        "outputId": "9603e13d-6f5b-4df7-c9e7-4ccd6998d06c"
      },
      "execution_count": 46,
      "outputs": [
        {
          "output_type": "stream",
          "name": "stdout",
          "text": [
            "i\n"
          ]
        }
      ]
    },
    {
      "cell_type": "code",
      "source": [
        "\n",
        "print(string[15])"
      ],
      "metadata": {
        "colab": {
          "base_uri": "https://localhost:8080/"
        },
        "id": "Fs0Hkh-DX9mQ",
        "outputId": "27f7e237-0bd2-44ab-c279-23e83a73002c"
      },
      "execution_count": 47,
      "outputs": [
        {
          "output_type": "stream",
          "name": "stdout",
          "text": [
            "n\n"
          ]
        }
      ]
    },
    {
      "cell_type": "code",
      "source": [
        "len(string)"
      ],
      "metadata": {
        "colab": {
          "base_uri": "https://localhost:8080/"
        },
        "id": "IRJXHWX8X9o3",
        "outputId": "4ab8f344-f06f-4459-ab83-5a2bd075d300"
      },
      "execution_count": 48,
      "outputs": [
        {
          "output_type": "execute_result",
          "data": {
            "text/plain": [
              "28"
            ]
          },
          "metadata": {},
          "execution_count": 48
        }
      ]
    },
    {
      "cell_type": "code",
      "source": [
        "#grab the element at the index-1, which is the LAST element\n",
        "print (string [-0])"
      ],
      "metadata": {
        "colab": {
          "base_uri": "https://localhost:8080/"
        },
        "id": "kQlCRUqJX9rh",
        "outputId": "45ee2837-7533-4a2c-c56d-a97b243e4d57"
      },
      "execution_count": 49,
      "outputs": [
        {
          "output_type": "stream",
          "name": "stdout",
          "text": [
            "P\n"
          ]
        }
      ]
    },
    {
      "cell_type": "code",
      "source": [
        "print (string[-2])"
      ],
      "metadata": {
        "colab": {
          "base_uri": "https://localhost:8080/"
        },
        "id": "Ywu7CbaGX9uH",
        "outputId": "a334fd55-0a0f-43ed-f86a-1a42b9a8e847"
      },
      "execution_count": 50,
      "outputs": [
        {
          "output_type": "stream",
          "name": "stdout",
          "text": [
            "i\n"
          ]
        }
      ]
    },
    {
      "cell_type": "code",
      "source": [
        "#Grab everything past thebfirst term all the way to the length of s which is len(s)\n",
        "print(string)\n",
        "print(string[1:])"
      ],
      "metadata": {
        "id": "BepmjJVqX9ww",
        "colab": {
          "base_uri": "https://localhost:8080/"
        },
        "outputId": "97555215-06cd-460f-ec02-432d52f5e4a1"
      },
      "execution_count": 51,
      "outputs": [
        {
          "output_type": "stream",
          "name": "stdout",
          "text": [
            "Principal Component Analysis\n",
            "rincipal Component Analysis\n"
          ]
        }
      ]
    },
    {
      "cell_type": "code",
      "source": [
        "string[13]"
      ],
      "metadata": {
        "id": "SlCYYkLKX9zg",
        "colab": {
          "base_uri": "https://localhost:8080/",
          "height": 36
        },
        "outputId": "4f89f1d8-7df7-495b-cb2c-62c6a8d24ab7"
      },
      "execution_count": 52,
      "outputs": [
        {
          "output_type": "execute_result",
          "data": {
            "text/plain": [
              "'p'"
            ],
            "application/vnd.google.colaboratory.intrinsic+json": {
              "type": "string"
            }
          },
          "metadata": {},
          "execution_count": 52
        }
      ]
    },
    {
      "cell_type": "code",
      "source": [
        "string[12]"
      ],
      "metadata": {
        "id": "yrTLI_kFX921"
      },
      "execution_count": null,
      "outputs": []
    },
    {
      "cell_type": "code",
      "source": [
        "#grab everything starting from index 10 till index 18\n",
        "print(string[10:3])"
      ],
      "metadata": {
        "colab": {
          "base_uri": "https://localhost:8080/"
        },
        "id": "HE6oDNSfzh6V",
        "outputId": "f9159603-4554-4df2-8beb-cb9d1b603966"
      },
      "execution_count": 53,
      "outputs": [
        {
          "output_type": "stream",
          "name": "stdout",
          "text": [
            "\n"
          ]
        }
      ]
    },
    {
      "cell_type": "code",
      "source": [
        "print(string[3:5])"
      ],
      "metadata": {
        "colab": {
          "base_uri": "https://localhost:8080/"
        },
        "id": "AW8YILTizh9Q",
        "outputId": "db5f3303-388b-41eb-face-cd5d8a4228e1"
      },
      "execution_count": 54,
      "outputs": [
        {
          "output_type": "stream",
          "name": "stdout",
          "text": [
            "nc\n"
          ]
        }
      ]
    },
    {
      "cell_type": "code",
      "source": [
        "print(string[2:4])"
      ],
      "metadata": {
        "colab": {
          "base_uri": "https://localhost:8080/"
        },
        "id": "y1zVv68BziAP",
        "outputId": "4017f702-521a-44e7-a6dc-790438c67ac6"
      },
      "execution_count": 55,
      "outputs": [
        {
          "output_type": "stream",
          "name": "stdout",
          "text": [
            "in\n"
          ]
        }
      ]
    },
    {
      "cell_type": "code",
      "source": [
        "#Everything\n",
        "print(string[:])\n",
        "print(string)"
      ],
      "metadata": {
        "colab": {
          "base_uri": "https://localhost:8080/"
        },
        "id": "sYIwEBKSziCy",
        "outputId": "7eb7a39d-9f16-42bd-b7fa-620998d12019"
      },
      "execution_count": 56,
      "outputs": [
        {
          "output_type": "stream",
          "name": "stdout",
          "text": [
            "Principal Component Analysis\n",
            "Principal Component Analysis\n"
          ]
        }
      ]
    },
    {
      "cell_type": "code",
      "source": [
        "string[-2]"
      ],
      "metadata": {
        "colab": {
          "base_uri": "https://localhost:8080/",
          "height": 36
        },
        "id": "jtZKU7qfziFk",
        "outputId": "56e32f4e-6b74-4b33-a022-a684dcfab065"
      },
      "execution_count": 58,
      "outputs": [
        {
          "output_type": "execute_result",
          "data": {
            "text/plain": [
              "'i'"
            ],
            "application/vnd.google.colaboratory.intrinsic+json": {
              "type": "string"
            }
          },
          "metadata": {},
          "execution_count": 58
        }
      ]
    },
    {
      "cell_type": "code",
      "source": [
        "string [-1:-4]"
      ],
      "metadata": {
        "colab": {
          "base_uri": "https://localhost:8080/",
          "height": 36
        },
        "id": "6r9UpH9YziId",
        "outputId": "368da856-5670-497a-a996-a47d9d4e6157"
      },
      "execution_count": 59,
      "outputs": [
        {
          "output_type": "execute_result",
          "data": {
            "text/plain": [
              "''"
            ],
            "application/vnd.google.colaboratory.intrinsic+json": {
              "type": "string"
            }
          },
          "metadata": {},
          "execution_count": 59
        }
      ]
    },
    {
      "cell_type": "code",
      "source": [
        "#grab everything, but go in step size of 1\n",
        "print(string)\n",
        "print(string[::3])"
      ],
      "metadata": {
        "colab": {
          "base_uri": "https://localhost:8080/"
        },
        "id": "vM6YK4CuziLK",
        "outputId": "02e459c7-2a45-4f6f-c0ee-19a09687f711"
      },
      "execution_count": 60,
      "outputs": [
        {
          "output_type": "stream",
          "name": "stdout",
          "text": [
            "Principal Component Analysis\n",
            "Pnp mntnys\n"
          ]
        }
      ]
    },
    {
      "cell_type": "code",
      "source": [
        "#Concatenate strings!\n",
        "string1='abc'\n",
        "string2='def'\n",
        "print(string1 ='' + string2)"
      ],
      "metadata": {
        "id": "Q1nqoSOkziN_"
      },
      "execution_count": null,
      "outputs": []
    },
    {
      "cell_type": "code",
      "source": [
        "print(string1 + '4' + string2)"
      ],
      "metadata": {
        "colab": {
          "base_uri": "https://localhost:8080/"
        },
        "id": "rucyrog5ziQh",
        "outputId": "c89f4cd6-edad-4877-bbb2-347ba825e498"
      },
      "execution_count": 14,
      "outputs": [
        {
          "output_type": "stream",
          "name": "stdout",
          "text": [
            "abc4def\n"
          ]
        }
      ]
    },
    {
      "cell_type": "code",
      "source": [
        "#Concatenate strings !\n",
        "string1='abc'\n",
        "string2='def'\n",
        "string1 + '4' + string2"
      ],
      "metadata": {
        "colab": {
          "base_uri": "https://localhost:8080/",
          "height": 36
        },
        "id": "RxF28tsFziT9",
        "outputId": "8a128e94-2f0b-479a-e6a9-b04749be4917"
      },
      "execution_count": 10,
      "outputs": [
        {
          "output_type": "execute_result",
          "data": {
            "text/plain": [
              "'abc4def'"
            ],
            "application/vnd.google.colaboratory.intrinsic+json": {
              "type": "string"
            }
          },
          "metadata": {},
          "execution_count": 10
        }
      ]
    },
    {
      "cell_type": "code",
      "source": [
        "print (string)"
      ],
      "metadata": {
        "colab": {
          "base_uri": "https://localhost:8080/"
        },
        "id": "tqzuRGUP2--I",
        "outputId": "8aeb74cd-45eb-4600-8878-a74e58a81436"
      },
      "execution_count": 61,
      "outputs": [
        {
          "output_type": "stream",
          "name": "stdout",
          "text": [
            "Principal Component Analysis\n"
          ]
        }
      ]
    },
    {
      "cell_type": "code",
      "source": [
        "#We can reassign string completely though!\n",
        "string = string + 'concatenate me!'\n",
        "print(string)"
      ],
      "metadata": {
        "colab": {
          "base_uri": "https://localhost:8080/"
        },
        "id": "Kx1k5LJZ2_BW",
        "outputId": "867944dc-bab3-4d4a-8a40-9c2783388b45"
      },
      "execution_count": 62,
      "outputs": [
        {
          "output_type": "stream",
          "name": "stdout",
          "text": [
            "Principal Component Analysisconcatenate me!\n"
          ]
        }
      ]
    },
    {
      "cell_type": "code",
      "source": [
        "letters = 'wubba'\n",
        "letters*2"
      ],
      "metadata": {
        "colab": {
          "base_uri": "https://localhost:8080/",
          "height": 36
        },
        "id": "L244UPyP2_El",
        "outputId": "5fd4f343-59fd-4b67-fb5d-aba89edb3bf1"
      },
      "execution_count": 63,
      "outputs": [
        {
          "output_type": "execute_result",
          "data": {
            "text/plain": [
              "'wubbawubba'"
            ],
            "application/vnd.google.colaboratory.intrinsic+json": {
              "type": "string"
            }
          },
          "metadata": {},
          "execution_count": 63
        }
      ]
    },
    {
      "cell_type": "code",
      "source": [
        "algorithm = 'Neutral Networks'\n",
        "print (algorithm)"
      ],
      "metadata": {
        "colab": {
          "base_uri": "https://localhost:8080/"
        },
        "id": "du2v4gRV2_H0",
        "outputId": "177f54bd-7603-4c33-e831-9db42764fcf6"
      },
      "execution_count": 64,
      "outputs": [
        {
          "output_type": "stream",
          "name": "stdout",
          "text": [
            "Neutral Networks\n"
          ]
        }
      ]
    },
    {
      "cell_type": "code",
      "source": [
        "#Print the length of the string\n",
        "len (algorithm)"
      ],
      "metadata": {
        "colab": {
          "base_uri": "https://localhost:8080/"
        },
        "id": "XDq79HQy2_K-",
        "outputId": "b8fcdcb5-2dd1-4962-ab31-01e70028d99c"
      },
      "execution_count": 65,
      "outputs": [
        {
          "output_type": "execute_result",
          "data": {
            "text/plain": [
              "16"
            ]
          },
          "metadata": {},
          "execution_count": 65
        }
      ]
    },
    {
      "cell_type": "code",
      "source": [
        "#Conver the string to lowercase\n",
        "algorithm.lower()"
      ],
      "metadata": {
        "colab": {
          "base_uri": "https://localhost:8080/",
          "height": 36
        },
        "id": "E9Yk-naw2_Oi",
        "outputId": "eb185518-bc69-4e23-a076-e3e1957082d5"
      },
      "execution_count": 66,
      "outputs": [
        {
          "output_type": "execute_result",
          "data": {
            "text/plain": [
              "'neutral networks'"
            ],
            "application/vnd.google.colaboratory.intrinsic+json": {
              "type": "string"
            }
          },
          "metadata": {},
          "execution_count": 66
        }
      ]
    },
    {
      "cell_type": "code",
      "source": [
        "print(algorithm)"
      ],
      "metadata": {
        "colab": {
          "base_uri": "https://localhost:8080/"
        },
        "id": "S2QpazJx2_Qu",
        "outputId": "dada78a5-39b1-439e-b781-20afcab6c2b6"
      },
      "execution_count": 67,
      "outputs": [
        {
          "output_type": "stream",
          "name": "stdout",
          "text": [
            "Neutral Networks\n"
          ]
        }
      ]
    },
    {
      "cell_type": "code",
      "source": [
        "#Lets try that out\n",
        "lower (algorithm)"
      ],
      "metadata": {
        "colab": {
          "base_uri": "https://localhost:8080/",
          "height": 158
        },
        "id": "jea2LUSh2_UC",
        "outputId": "d8d40f5f-20ad-4000-8f88-ba20b7faac19"
      },
      "execution_count": 68,
      "outputs": [
        {
          "output_type": "error",
          "ename": "NameError",
          "evalue": "name 'lower' is not defined",
          "traceback": [
            "\u001b[0;31m---------------------------------------------------------------------------\u001b[0m",
            "\u001b[0;31mNameError\u001b[0m                                 Traceback (most recent call last)",
            "\u001b[0;32m<ipython-input-68-4fa04b8595c9>\u001b[0m in \u001b[0;36m<cell line: 0>\u001b[0;34m()\u001b[0m\n\u001b[1;32m      1\u001b[0m \u001b[0;31m#Lets try that out\u001b[0m\u001b[0;34m\u001b[0m\u001b[0;34m\u001b[0m\u001b[0m\n\u001b[0;32m----> 2\u001b[0;31m \u001b[0mlower\u001b[0m \u001b[0;34m(\u001b[0m\u001b[0malgorithm\u001b[0m\u001b[0;34m)\u001b[0m\u001b[0;34m\u001b[0m\u001b[0;34m\u001b[0m\u001b[0m\n\u001b[0m",
            "\u001b[0;31mNameError\u001b[0m: name 'lower' is not defined"
          ]
        }
      ]
    },
    {
      "cell_type": "code",
      "source": [
        "#Convert the string to uppercase\n",
        "algorithm.upper()"
      ],
      "metadata": {
        "colab": {
          "base_uri": "https://localhost:8080/",
          "height": 36
        },
        "id": "2KTIt8M32_XN",
        "outputId": "3e615d0a-684a-4b40-af9d-4af020548128"
      },
      "execution_count": 69,
      "outputs": [
        {
          "output_type": "execute_result",
          "data": {
            "text/plain": [
              "'NEUTRAL NETWORKS'"
            ],
            "application/vnd.google.colaboratory.intrinsic+json": {
              "type": "string"
            }
          },
          "metadata": {},
          "execution_count": 69
        }
      ]
    },
    {
      "cell_type": "code",
      "source": [
        "print(algorithm)"
      ],
      "metadata": {
        "colab": {
          "base_uri": "https://localhost:8080/"
        },
        "id": "ZMSPJp5K5LxV",
        "outputId": "0b67acae-e92e-4645-d4fa-09efd625c7f1"
      },
      "execution_count": 70,
      "outputs": [
        {
          "output_type": "stream",
          "name": "stdout",
          "text": [
            "Neutral Networks\n"
          ]
        }
      ]
    },
    {
      "cell_type": "code",
      "source": [
        "algorithm.count('Networks')"
      ],
      "metadata": {
        "colab": {
          "base_uri": "https://localhost:8080/"
        },
        "id": "y5m3N_OS5L0b",
        "outputId": "e14649ad-d2f6-4d45-e300-963bdf885838"
      },
      "execution_count": 71,
      "outputs": [
        {
          "output_type": "execute_result",
          "data": {
            "text/plain": [
              "1"
            ]
          },
          "metadata": {},
          "execution_count": 71
        }
      ]
    },
    {
      "cell_type": "code",
      "source": [
        "algorithm.count('eu')"
      ],
      "metadata": {
        "colab": {
          "base_uri": "https://localhost:8080/"
        },
        "id": "adAcuObf5L3o",
        "outputId": "8a63a77a-f99a-4719-e2c3-baccc9ed96b3"
      },
      "execution_count": 72,
      "outputs": [
        {
          "output_type": "execute_result",
          "data": {
            "text/plain": [
              "1"
            ]
          },
          "metadata": {},
          "execution_count": 72
        }
      ]
    },
    {
      "cell_type": "code",
      "source": [
        "algorithm.count('')"
      ],
      "metadata": {
        "colab": {
          "base_uri": "https://localhost:8080/"
        },
        "id": "vaPit3jx5L7C",
        "outputId": "f2eda854-098f-472e-e8ad-09f341a12672"
      },
      "execution_count": 73,
      "outputs": [
        {
          "output_type": "execute_result",
          "data": {
            "text/plain": [
              "17"
            ]
          },
          "metadata": {},
          "execution_count": 73
        }
      ]
    },
    {
      "cell_type": "code",
      "source": [
        "algorithm.count('Newral')"
      ],
      "metadata": {
        "colab": {
          "base_uri": "https://localhost:8080/"
        },
        "id": "tHx-0-t05L-A",
        "outputId": "235ca615-4dd9-4080-fb3f-d30545b9eb8d"
      },
      "execution_count": 74,
      "outputs": [
        {
          "output_type": "execute_result",
          "data": {
            "text/plain": [
              "0"
            ]
          },
          "metadata": {},
          "execution_count": 74
        }
      ]
    },
    {
      "cell_type": "code",
      "source": [
        "print(algorithm)"
      ],
      "metadata": {
        "colab": {
          "base_uri": "https://localhost:8080/"
        },
        "id": "n_c8p8kv5MBc",
        "outputId": "8fe9e6b9-b0f4-4f72-bae7-7dbe1961ac78"
      },
      "execution_count": 75,
      "outputs": [
        {
          "output_type": "stream",
          "name": "stdout",
          "text": [
            "Neutral Networks\n"
          ]
        }
      ]
    },
    {
      "cell_type": "code",
      "source": [
        "algorithm.find('r')"
      ],
      "metadata": {
        "colab": {
          "base_uri": "https://localhost:8080/"
        },
        "id": "n1cNOOQh5ME4",
        "outputId": "bdd9ecf0-f0e9-4655-bac1-4fc9ab728100"
      },
      "execution_count": 76,
      "outputs": [
        {
          "output_type": "execute_result",
          "data": {
            "text/plain": [
              "4"
            ]
          },
          "metadata": {},
          "execution_count": 76
        }
      ]
    },
    {
      "cell_type": "code",
      "source": [
        "algorithm.find('Neural')"
      ],
      "metadata": {
        "colab": {
          "base_uri": "https://localhost:8080/"
        },
        "id": "-k8EHLys6NUj",
        "outputId": "0e9c5519-4e63-4d86-9966-9b2ca79faabc"
      },
      "execution_count": 77,
      "outputs": [
        {
          "output_type": "execute_result",
          "data": {
            "text/plain": [
              "-1"
            ]
          },
          "metadata": {},
          "execution_count": 77
        }
      ]
    },
    {
      "cell_type": "code",
      "source": [
        "algorithm.find('box')"
      ],
      "metadata": {
        "colab": {
          "base_uri": "https://localhost:8080/"
        },
        "id": "lrItKE7S6NXe",
        "outputId": "ca281681-4b61-418f-a306-f59c7112162e"
      },
      "execution_count": 78,
      "outputs": [
        {
          "output_type": "execute_result",
          "data": {
            "text/plain": [
              "-1"
            ]
          },
          "metadata": {},
          "execution_count": 78
        }
      ]
    },
    {
      "cell_type": "code",
      "source": [
        "print(algorithm)"
      ],
      "metadata": {
        "colab": {
          "base_uri": "https://localhost:8080/"
        },
        "id": "gCP9gzXl6NaT",
        "outputId": "304d65e1-9102-438e-f0d4-eded551a3a33"
      },
      "execution_count": 79,
      "outputs": [
        {
          "output_type": "stream",
          "name": "stdout",
          "text": [
            "Neutral Networks\n"
          ]
        }
      ]
    },
    {
      "cell_type": "code",
      "source": [
        "algorithm.replace('','')"
      ],
      "metadata": {
        "colab": {
          "base_uri": "https://localhost:8080/",
          "height": 36
        },
        "id": "boD7Ndga6Ncx",
        "outputId": "f60d1b2f-4287-441c-cf63-64435e624699"
      },
      "execution_count": 80,
      "outputs": [
        {
          "output_type": "execute_result",
          "data": {
            "text/plain": [
              "'Neutral Networks'"
            ],
            "application/vnd.google.colaboratory.intrinsic+json": {
              "type": "string"
            }
          },
          "metadata": {},
          "execution_count": 80
        }
      ]
    },
    {
      "cell_type": "code",
      "source": [
        "algorithm.replace('N','L')"
      ],
      "metadata": {
        "colab": {
          "base_uri": "https://localhost:8080/",
          "height": 36
        },
        "id": "rQpvGuWz6Nfs",
        "outputId": "a52462a0-6fe4-40f7-c33b-b4a14cc1ad39"
      },
      "execution_count": 81,
      "outputs": [
        {
          "output_type": "execute_result",
          "data": {
            "text/plain": [
              "'Leutral Letworks'"
            ],
            "application/vnd.google.colaboratory.intrinsic+json": {
              "type": "string"
            }
          },
          "metadata": {},
          "execution_count": 81
        }
      ]
    },
    {
      "cell_type": "code",
      "source": [
        "print(algorithm)"
      ],
      "metadata": {
        "colab": {
          "base_uri": "https://localhost:8080/"
        },
        "id": "7dzihJQ_6NiZ",
        "outputId": "eb722539-6735-4b1a-ed72-9c70f5fddf48"
      },
      "execution_count": 82,
      "outputs": [
        {
          "output_type": "stream",
          "name": "stdout",
          "text": [
            "Neutral Networks\n"
          ]
        }
      ]
    },
    {
      "cell_type": "code",
      "source": [
        "#Storing the modified strings\n",
        "algorithm_revised = algorithm.replace('Neural','Artificial Neural')\n",
        "print(algorithm_revised)\n",
        "print(algorithm)"
      ],
      "metadata": {
        "colab": {
          "base_uri": "https://localhost:8080/"
        },
        "id": "x1-zikP06NlI",
        "outputId": "be0abbb4-5950-422e-a4c9-51d23092c4e5"
      },
      "execution_count": 83,
      "outputs": [
        {
          "output_type": "stream",
          "name": "stdout",
          "text": [
            "Neutral Networks\n",
            "Neutral Networks\n"
          ]
        }
      ]
    },
    {
      "cell_type": "code",
      "source": [
        "first_name ='Rahul'\n",
        "last_name = 'modi'\n",
        "full_name =f'Left plus right makes {last_name} {first_name}'\n",
        "#use () to print the variable ypu want to print\n",
        "print(full_name)"
      ],
      "metadata": {
        "colab": {
          "base_uri": "https://localhost:8080/"
        },
        "id": "d8tuIl7w6Nn1",
        "outputId": "ca185f6d-9bff-4a3e-a3dd-d9c2fe88edf5"
      },
      "execution_count": 91,
      "outputs": [
        {
          "output_type": "stream",
          "name": "stdout",
          "text": [
            "Left plus right makes modi Rahul\n"
          ]
        }
      ]
    },
    {
      "cell_type": "code",
      "source": [
        "print(first_name+'' + last_name)"
      ],
      "metadata": {
        "colab": {
          "base_uri": "https://localhost:8080/"
        },
        "id": "raMB3ePu6Nqb",
        "outputId": "a71bb777-14a0-4d92-c9d8-6bd4194ac6ab"
      },
      "execution_count": 87,
      "outputs": [
        {
          "output_type": "stream",
          "name": "stdout",
          "text": [
            "Rahulmodi\n"
          ]
        }
      ]
    },
    {
      "cell_type": "code",
      "source": [
        "first_name= 'mahi'\n",
        "middle_name= ''\n",
        "last_name= 'puri'\n",
        "full_name= f'I am none other than {first_name} {middle_name} {last_name}.I am Data Scientist'\n",
        "print(full_name)\n",
        "print(full_name)"
      ],
      "metadata": {
        "colab": {
          "base_uri": "https://localhost:8080/"
        },
        "id": "votlNhiF6Ntx",
        "outputId": "bcfc64aa-fa3b-46ab-d58d-e68fdfbab9f7"
      },
      "execution_count": 93,
      "outputs": [
        {
          "output_type": "stream",
          "name": "stdout",
          "text": [
            "I am none other than mahi  puri.I am Data Scientist\n",
            "I am none other than mahi  puri.I am Data Scientist\n"
          ]
        }
      ]
    },
    {
      "cell_type": "code",
      "source": [
        "my_string = 'Albert Einstein'\n",
        "'thomsan' in my_string"
      ],
      "metadata": {
        "colab": {
          "base_uri": "https://localhost:8080/"
        },
        "id": "M3f2z5_8Xyfd",
        "outputId": "dff8566c-3fb5-477b-83f1-e7626e4a4f16"
      },
      "execution_count": 94,
      "outputs": [
        {
          "output_type": "execute_result",
          "data": {
            "text/plain": [
              "False"
            ]
          },
          "metadata": {},
          "execution_count": 94
        }
      ]
    },
    {
      "cell_type": "code",
      "source": [
        "'Alberta' in my_string"
      ],
      "metadata": {
        "colab": {
          "base_uri": "https://localhost:8080/"
        },
        "id": "k9ILVQkuXyi1",
        "outputId": "a5955fc7-704f-432e-e856-995e14d7eca4"
      },
      "execution_count": 95,
      "outputs": [
        {
          "output_type": "execute_result",
          "data": {
            "text/plain": [
              "False"
            ]
          },
          "metadata": {},
          "execution_count": 95
        }
      ]
    }
  ]
}